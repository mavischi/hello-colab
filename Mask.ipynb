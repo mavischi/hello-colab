{
  "nbformat": 4,
  "nbformat_minor": 0,
  "metadata": {
    "colab": {
      "provenance": [],
      "authorship_tag": "ABX9TyOc7+ja875ztZreEKeNje7P",
      "include_colab_link": true
    },
    "kernelspec": {
      "name": "python3",
      "display_name": "Python 3"
    },
    "language_info": {
      "name": "python"
    }
  },
  "cells": [
    {
      "cell_type": "markdown",
      "metadata": {
        "id": "view-in-github",
        "colab_type": "text"
      },
      "source": [
        "<a href=\"https://colab.research.google.com/github/mavischi/hello-colab/blob/main/Mask.ipynb\" target=\"_parent\"><img src=\"https://colab.research.google.com/assets/colab-badge.svg\" alt=\"Open In Colab\"/></a>"
      ]
    },
    {
      "cell_type": "code",
      "source": [
        "import json\n",
        "import requests\n",
        "\n",
        "# 利用 requests 對 API 來源發送一個請求\n",
        "url = \"https://raw.githubusercontent.com/kiang/pharmacies/master/json/points.json\"\n",
        "response = requests.get(url)\n",
        "\n",
        "# 將請求回應的內容存成一個字串格式\n",
        "d = response.text\n",
        "\n",
        "# 解析 json 格式的資料，變成成字典\n",
        "data = json.loads(d)\n",
        "print(data)\n",
        "\n",
        "# 計算藥局的數量\n",
        "pharm_count = {}\n",
        "\n",
        "# 取出每一筆解析出來的，\n",
        "for d in data['features']:\n",
        "    # 有些 county 為空值，因此取地址的前三個字\n",
        "    county = d['properties']['address'][0:3]\n",
        "    # 若城市沒有出現在 pharm_count 裡，建立新的key，並賦予 1\n",
        "    if county not in pharm_count:\n",
        "        pharm_count[county] = 1\n",
        "    # 若城市已經在 pharm_count 裡。則 +1\n",
        "    else:\n",
        "        pharm_count[county] += 1\n",
        "print(pharm_count)\n",
        "\n",
        "#計算大人的口罩數量\n",
        "mask_count = {}\n",
        "\n",
        "\n",
        "for d in data['features']:\n",
        "    county = d['properties']['address'][0:3]\n",
        "    # 取得的大人的口罩數量\n",
        "    mask_adult = d['properties']['mask_adult']\n",
        "    if county not in mask_count:\n",
        "        mask_count[county] = mask_adult\n",
        "    else:\n",
        "        mask_count[county] += mask_adult\n",
        "\n",
        "# 依照口罩剩餘的數量，從多到少排序\n",
        "mask_count = dict(sorted(mask_count.items(), key=lambda item: item[1], reverse=True))\n",
        "\n",
        "print(mask_count)\n",
        "\n"
      ],
      "metadata": {
        "id": "ojbI5WHetSLY"
      },
      "execution_count": null,
      "outputs": []
    },
    {
      "cell_type": "markdown",
      "source": [],
      "metadata": {
        "id": "vlUoV4QoZo9O"
      }
    }
  ]
}