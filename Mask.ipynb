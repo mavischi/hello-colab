{
  "nbformat": 4,
  "nbformat_minor": 0,
  "metadata": {
    "colab": {
      "provenance": [],
      "authorship_tag": "ABX9TyOnf4q5KbjcLoyLWPFrUuo+",
      "include_colab_link": true
    },
    "kernelspec": {
      "name": "python3",
      "display_name": "Python 3"
    },
    "language_info": {
      "name": "python"
    }
  },
  "cells": [
    {
      "cell_type": "markdown",
      "metadata": {
        "id": "view-in-github",
        "colab_type": "text"
      },
      "source": [
        "<a href=\"https://colab.research.google.com/github/mavischi/hello-colab/blob/main/Mask.ipynb\" target=\"_parent\"><img src=\"https://colab.research.google.com/assets/colab-badge.svg\" alt=\"Open In Colab\"/></a>"
      ]
    },
    {
      "cell_type": "code",
      "execution_count": 8,
      "metadata": {
        "colab": {
          "base_uri": "https://localhost:8080/"
        },
        "id": "9kZRwfAmZOkE",
        "outputId": "24e6477d-b190-416e-ffa2-93a06555c206"
      },
      "outputs": [
        {
          "output_type": "stream",
          "name": "stdout",
          "text": [
            "{'臺北市': 340, '高雄市': 424, '臺中市': 436, '臺南市': 280, '基隆市': 57, '新竹市': 39, '嘉義市': 67, '新北市': 507, '桃園市': 271, '新竹縣': 48, '宜蘭縣': 76, '苗栗縣': 57, '彰化縣': 181, '南投縣': 67, '雲林縣': 131, '嘉義縣': 84, '屏東縣': 140, '澎湖縣': 11, '花蓮縣': 47, '臺東縣': 23, '金門縣': 6, '連江縣': 1}\n"
          ]
        }
      ],
      "source": [
        "import json\n",
        "import requests\n",
        "\n",
        "# 利用 requests 對 API 來源發送一個請求\n",
        "url = \"https://raw.githubusercontent.com/kiang/pharmacies/master/json/points.json\"\n",
        "response = requests.get(url)\n",
        "\n",
        "# 將請求回應的內容存成一個字串格式\n",
        "d = response.text\n",
        "\n",
        "# 解析 json 格式的資料，變成成字典\n",
        "data = json.loads(d)\n",
        "\n",
        "print(data)\n",
        "\n",
        "# 計算藥局的數量\n",
        "mask_count = {}\n",
        "\n",
        "# 取出每一筆解析出來的，\n",
        "for d in data['features']:\n",
        "    # 有些 county 為空值，因此取地址的前三個字\n",
        "    county = d['properties']['address'][0:3]\n",
        "    # 若城市沒有出現在 mask_count 裡，建立新的key，並賦予 1\n",
        "    if county not in mask_count:\n",
        "        mask_count[county] = 1\n",
        "    # 若城市已經在 mask_count 裡。則 +1\n",
        "    else:\n",
        "        mask_count[county] += 1\n",
        "\n",
        "print(mask_count)\n"
      ]
    },
    {
      "cell_type": "markdown",
      "source": [],
      "metadata": {
        "id": "vlUoV4QoZo9O"
      }
    }
  ]
}