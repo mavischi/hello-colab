{
  "nbformat": 4,
  "nbformat_minor": 0,
  "metadata": {
    "colab": {
      "provenance": [],
      "authorship_tag": "ABX9TyP9iVCKTyzu8Rcf4VNttE3N",
      "include_colab_link": true
    },
    "kernelspec": {
      "name": "python3",
      "display_name": "Python 3"
    },
    "language_info": {
      "name": "python"
    }
  },
  "cells": [
    {
      "cell_type": "markdown",
      "metadata": {
        "id": "view-in-github",
        "colab_type": "text"
      },
      "source": [
        "<a href=\"https://colab.research.google.com/github/mavischi/hello-colab/blob/main/Mask.ipynb\" target=\"_parent\"><img src=\"https://colab.research.google.com/assets/colab-badge.svg\" alt=\"Open In Colab\"/></a>"
      ]
    },
    {
      "cell_type": "code",
      "source": [
        "import json\n",
        "import requests\n",
        "\n",
        "# 利用 requests 對 API 來源發送一個請求\n",
        "url = \"https://raw.githubusercontent.com/kiang/pharmacies/master/json/points.json\"\n",
        "response = requests.get(url)\n",
        "\n",
        "# 將請求回應的內容存成一個字串格式\n",
        "d = response.text\n",
        "\n",
        "# 解析 json 格式的資料，變成成字典\n",
        "data = json.loads(d)\n",
        "print(data)\n",
        "\n",
        "# 計算藥局的數量\n",
        "pharm_count = {}\n",
        "\n",
        "# 取出每一筆解析出來的，\n",
        "for d in data['features']:\n",
        "    # 有些 county 為空值，因此取地址的前三個字\n",
        "    county = d['properties']['address'][0:3]\n",
        "    # 若城市沒有出現在 pharm_count 裡，建立新的key，並賦予 1\n",
        "    if county not in pharm_count:\n",
        "        pharm_count[county] = 1\n",
        "    # 若城市已經在 pharm_count 裡。則 +1\n",
        "    else:\n",
        "        pharm_count[county] += 1\n",
        "print(pharm_count)\n",
        "\n",
        "#計算大人的口罩數量\n",
        "mask_count = {}\n",
        "\n",
        "for d in data['features']:\n",
        "    county = d['properties']['address'][0:3]\n",
        "    # 取得的大人的口罩數量\n",
        "    mask_adult = d['properties']['mask_adult']\n",
        "    if county not in mask_count:\n",
        "        mask_count[county] = mask_adult\n",
        "    else:\n",
        "        mask_count[county] += mask_adult\n",
        "\n",
        "# 依照口罩剩餘的數量，從多到少排序\n",
        "mask_count = dict(sorted(mask_count.items(), key=lambda item: item[1], reverse=True))\n",
        "\n",
        "print(mask_count)\n"
      ],
      "metadata": {
        "id": "ojbI5WHetSLY"
      },
      "execution_count": null,
      "outputs": []
    },
    {
      "cell_type": "code",
      "source": [
        "\n",
        "import sqlite3\n",
        "import datetime\n",
        "\n",
        "# 建立資料庫\n",
        "conn = sqlite3.connect('example.db')\n",
        "# 創建連結\n",
        "c = conn.cursor()\n",
        "\n",
        "# 新增且清空資料夾\n",
        "c.execute('''\n",
        "CREATE TABLE IF NOT EXISTS pharmacies\n",
        "          (city text,\n",
        "          counts text,\n",
        "          createdAt datetime)\n",
        "''')\n",
        "c.execute('''DELETE FROM pharmacies''')\n",
        "conn.commit()\n",
        "\n",
        "# 新增資料\n",
        "for city, count in pharm_count.items():\n",
        "  t = datetime.datetime.now()\n",
        "  c.execute(f\"INSERT INTO pharmacies VALUES ('{city}',{count},'{t}')\")\n",
        "  conn.commit()\n",
        "\n",
        "# 查詢資料\n",
        "c.execute(\"SELECT * FROM pharmacies\")\n",
        "print(c.fetchall())\n",
        "\n",
        "conn.commit()\n",
        "conn.close()"
      ],
      "metadata": {
        "colab": {
          "base_uri": "https://localhost:8080/"
        },
        "id": "t0azBEbR5w97",
        "outputId": "a9cea0b2-541c-4786-cb98-8aa51688b4db"
      },
      "execution_count": 28,
      "outputs": [
        {
          "output_type": "stream",
          "name": "stdout",
          "text": [
            "[('臺北市', '340', '2024-09-16 04:04:03.784496'), ('高雄市', '424', '2024-09-16 04:04:03.793205'), ('臺中市', '436', '2024-09-16 04:04:03.802118'), ('臺南市', '280', '2024-09-16 04:04:03.811924'), ('基隆市', '57', '2024-09-16 04:04:03.820904'), ('新竹市', '39', '2024-09-16 04:04:03.830100'), ('嘉義市', '67', '2024-09-16 04:04:03.840162'), ('新北市', '507', '2024-09-16 04:04:03.849230'), ('桃園市', '271', '2024-09-16 04:04:03.857995'), ('新竹縣', '48', '2024-09-16 04:04:03.867669'), ('宜蘭縣', '76', '2024-09-16 04:04:03.876443'), ('苗栗縣', '57', '2024-09-16 04:04:03.885510'), ('彰化縣', '181', '2024-09-16 04:04:03.895951'), ('南投縣', '67', '2024-09-16 04:04:03.905290'), ('雲林縣', '131', '2024-09-16 04:04:03.914458'), ('嘉義縣', '84', '2024-09-16 04:04:03.923506'), ('屏東縣', '140', '2024-09-16 04:04:03.932730'), ('澎湖縣', '11', '2024-09-16 04:04:03.942343'), ('花蓮縣', '47', '2024-09-16 04:04:03.952205'), ('臺東縣', '23', '2024-09-16 04:04:03.962244'), ('金門縣', '6', '2024-09-16 04:04:03.971467'), ('連江縣', '1', '2024-09-16 04:04:03.980767')]\n"
          ]
        }
      ]
    },
    {
      "cell_type": "code",
      "source": [
        "conn = sqlite3.connect('example.db')\n",
        "c = conn.cursor()\n",
        "\n",
        "c.execute('''\n",
        "CREATE TABLE IF NOT EXISTS mask\n",
        "          (city text,\n",
        "          counts text,\n",
        "          createdAt datetime)\n",
        "''')\n",
        "c.execute('''DELETE FROM mask''')\n",
        "conn.commit()\n",
        "\n",
        "for city, counts in mask_count.items():\n",
        "  t = datetime.datetime.now()\n",
        "  c.execute(f\"INSERT INTO mask VALUES ('{city}', {counts}, '{t}')\")\n",
        "  conn.commit()\n",
        "\n",
        "# 查詢資料\n",
        "c.execute(\"SELECT * FROM mask\")\n",
        "print(c.fetchall())\n",
        "\n",
        "conn.commit()\n",
        "conn.close()"
      ],
      "metadata": {
        "colab": {
          "base_uri": "https://localhost:8080/"
        },
        "id": "inbYi0ueO2pY",
        "outputId": "0923c30d-69d2-41ec-cb35-e5cf034d8071"
      },
      "execution_count": 40,
      "outputs": [
        {
          "output_type": "stream",
          "name": "stdout",
          "text": [
            "[('新北市', '677660', '2024-09-16 05:21:22.690688'), ('臺中市', '556440', '2024-09-16 05:21:22.700585'), ('高雄市', '428940', '2024-09-16 05:21:22.709666'), ('臺南市', '408400', '2024-09-16 05:21:22.719693'), ('桃園市', '345600', '2024-09-16 05:21:22.730327'), ('臺北市', '323660', '2024-09-16 05:21:22.739425'), ('彰化縣', '219400', '2024-09-16 05:21:22.747863'), ('雲林縣', '199470', '2024-09-16 05:21:22.757235'), ('屏東縣', '184250', '2024-09-16 05:21:22.766456'), ('苗栗縣', '134180', '2024-09-16 05:21:22.775222'), ('嘉義縣', '113180', '2024-09-16 05:21:22.783320'), ('嘉義市', '107840', '2024-09-16 05:21:22.791537'), ('宜蘭縣', '106900', '2024-09-16 05:21:22.800228'), ('南投縣', '91240', '2024-09-16 05:21:22.808739'), ('基隆市', '80100', '2024-09-16 05:21:22.817120'), ('花蓮縣', '57330', '2024-09-16 05:21:22.825674'), ('新竹縣', '53760', '2024-09-16 05:21:22.833351'), ('新竹市', '45630', '2024-09-16 05:21:22.842094'), ('臺東縣', '28510', '2024-09-16 05:21:22.850813'), ('金門縣', '15510', '2024-09-16 05:21:22.859852'), ('澎湖縣', '12600', '2024-09-16 05:21:22.868902'), ('連江縣', '7930', '2024-09-16 05:21:22.876803')]\n"
          ]
        }
      ]
    },
    {
      "cell_type": "markdown",
      "source": [],
      "metadata": {
        "id": "vlUoV4QoZo9O"
      }
    }
  ]
}