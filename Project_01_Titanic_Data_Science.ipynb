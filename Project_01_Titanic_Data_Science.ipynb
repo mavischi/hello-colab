{
  "nbformat": 4,
  "nbformat_minor": 0,
  "metadata": {
    "colab": {
      "provenance": [],
      "authorship_tag": "ABX9TyPHu77RuzCq5/eSVWY8PRKC",
      "include_colab_link": true
    },
    "kernelspec": {
      "name": "python3",
      "display_name": "Python 3"
    },
    "language_info": {
      "name": "python"
    }
  },
  "cells": [
    {
      "cell_type": "markdown",
      "metadata": {
        "id": "view-in-github",
        "colab_type": "text"
      },
      "source": [
        "<a href=\"https://colab.research.google.com/github/mavischi/hello-colab/blob/main/Project_01_Titanic_Data_Science.ipynb\" target=\"_parent\"><img src=\"https://colab.research.google.com/assets/colab-badge.svg\" alt=\"Open In Colab\"/></a>"
      ]
    },
    {
      "cell_type": "code",
      "execution_count": null,
      "metadata": {
        "id": "8uvR-aCAZz9v"
      },
      "outputs": [],
      "source": [
        "import pandas as pd\n",
        "import numpy as np\n",
        "import seaborn as sns\n",
        "import matplotlib.pyplot as plt\n",
        "\n",
        "url = \"https://raw.githubusercontent.com/dsindy/kaggle-titanic/master/data/train.csv\"\n",
        "dt = pd.read_csv(url)\n",
        "df = pd.DataFrame(dt)\n",
        "\n",
        "# 設置顯示的最大行數和列數\n",
        "pd.set_option(\"display.max_columns\", None)  # None 代表顯示所有列\n",
        "\n",
        "# 先看前 10 筆資料\n",
        "print(df.head(10))\n",
        "\n",
        "# 印出所有的欄位名稱\n",
        "print(df.columns)\n",
        "\n",
        "# # 看資料的大小\n",
        "print(df.shape)\n",
        "\n",
        "# 看看關於資料的統計資訊\n",
        "print(df.describe())\n",
        "\n",
        "# 看資料的缺失值\n",
        "print(df.isnull().sum())\n",
        "\n",
        "# 將不需要的欄位 drop，如PassengerId, Name, Ticket, Cabin\n",
        "drop_df = df.drop([\"PassengerId\", \"Name\", \"Ticket\", \"Cabin\"], axis=1)\n",
        "\n",
        "# 2*3的子圖subplots繪製欄位與Survived間的關係\n",
        "# 將要繪製的欄位名列成列表\n",
        "cols = [\"Survived\", \"Sex\", \"Pclass\", \"SibSp\", \"Parch\", \"Embarked\"]\n",
        "n_rows = 2 # 行數\n",
        "n_cols = 3 # 列數\n",
        "\n",
        "# fig 為子圖(subplots)的容器, axs代表個別子圖 ax 對應一個子圖, figsize為每一個子圖的大小。\n",
        "fig, axs = plt.subplots(n_rows , n_cols, figsize=(n_cols * 3.2, n_rows * 3.2))\n",
        "\n",
        "# 用雙重迴圈遍歷子圖\n",
        "# r 表示第幾行, c 表示第幾列\n",
        "for r in range(0, n_rows): #從\n",
        "    for c in range(0, n_cols):\n",
        "        # 是當前繪製的欄位在索引的位置\n",
        "        i = (r) * n_cols + c\n",
        "        # 因為只有五個欄位，避免超出範圍\n",
        "        if i < 6:\n",
        "            ax = axs[r][c ] # 設定當前的子圖\n",
        "            # 繪製數量分布圖, hue 指用顏色來區分\n",
        "            sns.countplot(x=drop_df[cols[i]], hue=drop_df[\"Survived\"], ax=ax)\n",
        "            # 設定個子圖的標題為當前欄位的名稱\n",
        "            ax.set_title(cols[i])\n",
        "            # 添加圖例，表示生存與否, 並將其放在右上角\n",
        "            ax.legend(title = \"survived\", loc=\"upper right\")\n",
        "plt.tight_layout() # 自動調整子圖之間的間距，避免圖表之間重疊或顯示不全\n",
        "plt.show()\n",
        "\n",
        "# 使用 pandas 的 get dummies 進行 one-hot encoding\n",
        "df_encoded = pd.get_dummies(drop_df, columns=[\"Sex\", \"Embarked\"])\n",
        "\n",
        "# 製作熱圖\n",
        "# 計算相關係數矩陣\n",
        "corr_matrix = df_encoded.corr()\n",
        "\n",
        "# 設定熱圖尺寸\n",
        "plt.figure(figsize=(12,8))\n",
        "sns.heatmap(corr_matrix, annot=True, cmap=\"Blues\", linewidths=0.5)\n",
        "plt.show()\n",
        "\n",
        "# 針對 Survived 與其他欄位的關聯性\n",
        "survived_corr = corr_matrix[[\"Survived\"]]\n",
        "sorted_corr = survived_corr.sort_values(by=\"Survived\", ascending=False)\n",
        "plt.figure(figsize=(5,8))\n",
        "sns.heatmap(sorted_corr, annot=True, cmap=\"Reds\", linewidths=0.5)\n",
        "plt.title(\"Correlation with Survived\")\n",
        "plt.show()"
      ]
    },
    {
      "cell_type": "markdown",
      "source": [
        "1. Titanic 資料中所有欄位的定義<br>\n",
        "PassengerId 乘客ID, Survived 存活, Pclass 等級, Name 名字, Sex 性別, Age 年紀, SibSp 兄弟姐妹＋夫妻數量, Parch 父母小孩的數量, Ticket 票號, Fare 費用, Cabin 房間號碼, Embarked 登船\n",
        "2. 進一步觀察每一個欄位「數值欄位/類別欄位」與「是否生存欄位」之關係程度，找出關係大的欄位。<br>\n",
        "女性的相關程度 0.54 最高，而男性的相關程度 -0.54 最低\n",
        "3. 承上題，請問你是如何定義與解讀什麼稱為「關係大」呢？<br>\n",
        "運用 heat map 觀察出 Sex_female 的相關係數越大，表示這個特徵與存活率存在著正相關。\n",
        "\n"
      ],
      "metadata": {
        "id": "vZKiq7j9ue43"
      }
    }
  ]
}